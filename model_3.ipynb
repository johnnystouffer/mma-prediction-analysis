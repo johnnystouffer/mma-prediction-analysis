{
 "cells": [
  {
   "cell_type": "markdown",
   "metadata": {},
   "source": [
    "# Building a Predictor"
   ]
  },
  {
   "cell_type": "markdown",
   "metadata": {},
   "source": [
    "Now that our data is in here and working the next step is to build the MODEL so we can put it to practice"
   ]
  },
  {
   "cell_type": "code",
   "execution_count": 1,
   "metadata": {},
   "outputs": [],
   "source": [
    "# Importing PyTorch libraries and the traintest split function\n",
    "import torch\n",
    "import torch.nn as nn\n",
    "import torch.optim as optim\n",
    "import torch.nn.functional as F\n",
    "from torch.utils.data import TensorDataset, DataLoader\n",
    "from sklearn.model_selection import train_test_split\n",
    "\n",
    "# Importing libraries for plotting, data, and math\n",
    "import pandas as pd\n",
    "import numpy as np\n",
    "import matplotlib.pyplot as plt"
   ]
  },
  {
   "cell_type": "markdown",
   "metadata": {},
   "source": [
    "# Importing Data and Splitting"
   ]
  },
  {
   "cell_type": "markdown",
   "metadata": {},
   "source": [
    "First step of any machine learning model is to import the data you want to work with and split it into our training and testing data. We will be using the train_test_split function from sklearn to do this."
   ]
  },
  {
   "cell_type": "code",
   "execution_count": 2,
   "metadata": {},
   "outputs": [
    {
     "data": {
      "text/html": [
       "<div>\n",
       "<style scoped>\n",
       "    .dataframe tbody tr th:only-of-type {\n",
       "        vertical-align: middle;\n",
       "    }\n",
       "\n",
       "    .dataframe tbody tr th {\n",
       "        vertical-align: top;\n",
       "    }\n",
       "\n",
       "    .dataframe thead th {\n",
       "        text-align: right;\n",
       "    }\n",
       "</style>\n",
       "<table border=\"1\" class=\"dataframe\">\n",
       "  <thead>\n",
       "    <tr style=\"text-align: right;\">\n",
       "      <th></th>\n",
       "      <th>HeightDiff</th>\n",
       "      <th>WeightDiff</th>\n",
       "      <th>ReachDiff</th>\n",
       "      <th>WinDiff</th>\n",
       "      <th>ExpDiff</th>\n",
       "      <th>Winner</th>\n",
       "    </tr>\n",
       "  </thead>\n",
       "  <tbody>\n",
       "    <tr>\n",
       "      <th>0</th>\n",
       "      <td>-2.0</td>\n",
       "      <td>-7.0</td>\n",
       "      <td>0.0</td>\n",
       "      <td>-0.062500</td>\n",
       "      <td>16</td>\n",
       "      <td>1</td>\n",
       "    </tr>\n",
       "    <tr>\n",
       "      <th>1</th>\n",
       "      <td>-2.0</td>\n",
       "      <td>-16.0</td>\n",
       "      <td>-1.0</td>\n",
       "      <td>-0.205357</td>\n",
       "      <td>40</td>\n",
       "      <td>1</td>\n",
       "    </tr>\n",
       "    <tr>\n",
       "      <th>2</th>\n",
       "      <td>-2.0</td>\n",
       "      <td>-26.0</td>\n",
       "      <td>0.0</td>\n",
       "      <td>-0.221591</td>\n",
       "      <td>6</td>\n",
       "      <td>1</td>\n",
       "    </tr>\n",
       "    <tr>\n",
       "      <th>3</th>\n",
       "      <td>-2.0</td>\n",
       "      <td>4.0</td>\n",
       "      <td>0.0</td>\n",
       "      <td>0.029605</td>\n",
       "      <td>3</td>\n",
       "      <td>1</td>\n",
       "    </tr>\n",
       "    <tr>\n",
       "      <th>4</th>\n",
       "      <td>-2.0</td>\n",
       "      <td>-13.0</td>\n",
       "      <td>1.0</td>\n",
       "      <td>-0.145833</td>\n",
       "      <td>-4</td>\n",
       "      <td>1</td>\n",
       "    </tr>\n",
       "  </tbody>\n",
       "</table>\n",
       "</div>"
      ],
      "text/plain": [
       "   HeightDiff  WeightDiff  ReachDiff   WinDiff  ExpDiff  Winner\n",
       "0        -2.0        -7.0        0.0 -0.062500       16       1\n",
       "1        -2.0       -16.0       -1.0 -0.205357       40       1\n",
       "2        -2.0       -26.0        0.0 -0.221591        6       1\n",
       "3        -2.0         4.0        0.0  0.029605        3       1\n",
       "4        -2.0       -13.0        1.0 -0.145833       -4       1"
      ]
     },
     "execution_count": 2,
     "metadata": {},
     "output_type": "execute_result"
    }
   ],
   "source": [
    "# Importing our data\n",
    "data = pd.read_csv('ufc_fights.csv')\n",
    "data.head()"
   ]
  },
  {
   "cell_type": "code",
   "execution_count": 3,
   "metadata": {},
   "outputs": [
    {
     "data": {
      "text/html": [
       "<div>\n",
       "<style scoped>\n",
       "    .dataframe tbody tr th:only-of-type {\n",
       "        vertical-align: middle;\n",
       "    }\n",
       "\n",
       "    .dataframe tbody tr th {\n",
       "        vertical-align: top;\n",
       "    }\n",
       "\n",
       "    .dataframe thead th {\n",
       "        text-align: right;\n",
       "    }\n",
       "</style>\n",
       "<table border=\"1\" class=\"dataframe\">\n",
       "  <thead>\n",
       "    <tr style=\"text-align: right;\">\n",
       "      <th></th>\n",
       "      <th>HeightDiff</th>\n",
       "      <th>WeightDiff</th>\n",
       "      <th>ReachDiff</th>\n",
       "      <th>WinDiff</th>\n",
       "      <th>ExpDiff</th>\n",
       "    </tr>\n",
       "  </thead>\n",
       "  <tbody>\n",
       "    <tr>\n",
       "      <th>3250</th>\n",
       "      <td>0.0</td>\n",
       "      <td>0.0</td>\n",
       "      <td>1.0</td>\n",
       "      <td>0.136364</td>\n",
       "      <td>0</td>\n",
       "    </tr>\n",
       "    <tr>\n",
       "      <th>1261</th>\n",
       "      <td>-1.0</td>\n",
       "      <td>0.0</td>\n",
       "      <td>-2.0</td>\n",
       "      <td>0.123377</td>\n",
       "      <td>-6</td>\n",
       "    </tr>\n",
       "    <tr>\n",
       "      <th>22</th>\n",
       "      <td>-2.0</td>\n",
       "      <td>-1.0</td>\n",
       "      <td>1.0</td>\n",
       "      <td>0.184783</td>\n",
       "      <td>9</td>\n",
       "    </tr>\n",
       "    <tr>\n",
       "      <th>619</th>\n",
       "      <td>0.0</td>\n",
       "      <td>0.0</td>\n",
       "      <td>-4.0</td>\n",
       "      <td>0.103831</td>\n",
       "      <td>1</td>\n",
       "    </tr>\n",
       "    <tr>\n",
       "      <th>114</th>\n",
       "      <td>1.0</td>\n",
       "      <td>0.0</td>\n",
       "      <td>1.0</td>\n",
       "      <td>0.070175</td>\n",
       "      <td>-2</td>\n",
       "    </tr>\n",
       "  </tbody>\n",
       "</table>\n",
       "</div>"
      ],
      "text/plain": [
       "      HeightDiff  WeightDiff  ReachDiff   WinDiff  ExpDiff\n",
       "3250         0.0         0.0        1.0  0.136364        0\n",
       "1261        -1.0         0.0       -2.0  0.123377       -6\n",
       "22          -2.0        -1.0        1.0  0.184783        9\n",
       "619          0.0         0.0       -4.0  0.103831        1\n",
       "114          1.0         0.0        1.0  0.070175       -2"
      ]
     },
     "execution_count": 3,
     "metadata": {},
     "output_type": "execute_result"
    }
   ],
   "source": [
    "# Defining the features and the target\n",
    "X = data[['HeightDiff', 'WeightDiff', 'ReachDiff', 'WinDiff', 'ExpDiff']]\n",
    "y = data['Winner']\n",
    "y = torch.eye(2)[y]\n",
    "X_train, X_test, y_train, y_test = train_test_split(X, y, test_size=0.2, random_state=128)\n",
    "X_train.head()"
   ]
  },
  {
   "cell_type": "code",
   "execution_count": 4,
   "metadata": {},
   "outputs": [
    {
     "data": {
      "text/plain": [
       "tensor([[0., 1.],\n",
       "        [0., 1.],\n",
       "        [1., 0.],\n",
       "        ...,\n",
       "        [1., 0.],\n",
       "        [0., 1.],\n",
       "        [0., 1.]])"
      ]
     },
     "execution_count": 4,
     "metadata": {},
     "output_type": "execute_result"
    }
   ],
   "source": [
    "y_train"
   ]
  },
  {
   "cell_type": "markdown",
   "metadata": {},
   "source": [
    "# Making PyTorch understand our data\n",
    "\n",
    "Because PyTorch is a library that can use Tensors we are going to convert all of our data into tensors to speed up the process of training our model and also so we dont have to do it later."
   ]
  },
  {
   "cell_type": "code",
   "execution_count": 5,
   "metadata": {},
   "outputs": [],
   "source": [
    "# Assuming you have already defined X_train_tensor, X_test_tensor, y_train, and y_test\n",
    "\n",
    "# Convert training data into float tensors\n",
    "X_train_tensor = torch.tensor(X_train.values, dtype=torch.float32)\n",
    "X_test_tensor = torch.tensor(X_test.values, dtype=torch.float32)\n",
    "\n",
    "# Convert target labels into long tensors (integers)\n",
    "y_train_tensor = y_train.clone().detach().to(torch.float32)\n",
    "y_test_tensor = y_test.clone().detach().to(torch.float32)\n",
    "\n",
    "# Define the train and test datasets\n",
    "train_dataset = TensorDataset(X_train_tensor, y_train_tensor)\n",
    "test_dataset = TensorDataset(X_test_tensor, y_test_tensor)\n",
    "\n",
    "# Create the train and test data loaders\n",
    "batch_size = 32\n",
    "train_loader = DataLoader(train_dataset, batch_size=batch_size, shuffle=True)\n",
    "test_loader = DataLoader(test_dataset, batch_size=batch_size, shuffle=False)"
   ]
  },
  {
   "cell_type": "markdown",
   "metadata": {},
   "source": [
    "# Making the Neural Network Architecture\n",
    "\n",
    "Given that our data is not very complex we will be using a simple neural network with 2 hidden layers and 1 output layer. We will be using the ReLU activation function for our hidden layers and the Sigmoid activation function for our output layer."
   ]
  },
  {
   "cell_type": "code",
   "execution_count": 6,
   "metadata": {},
   "outputs": [],
   "source": [
    "class Net(nn.Module):\n",
    "    \"\"\"\n",
    "    Defining the neural network architecture with 2 hidden layers and 3 fully connected layers\n",
    "    \n",
    "    forward: like all neural networks, this function takes in the input and passes it through the layers\n",
    "    \n",
    "    loss\n",
    "    \"\"\"\n",
    "    def __init__(self, input_size=5, hidden_1=5, output_size=2):\n",
    "        super(Net, self).__init__()\n",
    "        self.fc1 = nn.Linear(input_size, hidden_1)\n",
    "        self.fc2 = nn.Linear(hidden_1, output_size)\n",
    "        self.sigmoid = nn.Sigmoid() \n",
    "        self.relu = nn.ReLU()\n",
    "\n",
    "    def forward(self, x):\n",
    "        x = self.relu(self.fc1(x))\n",
    "        x = self.fc2(x)\n",
    "        output = self.sigmoid(x)\n",
    "        return output\n",
    "    \n",
    "    def loss(self, y_pred, y_true):\n",
    "        # Binary cross entropy loss function\n",
    "        criterion = nn.BCEWithLogitsLoss()\n",
    "        return criterion(y_pred, y_true)\n",
    "    \n",
    "    \n",
    "# setting this variable for the future\n",
    "net = Net()"
   ]
  },
  {
   "cell_type": "markdown",
   "metadata": {},
   "source": [
    "# Optimizer Function and Setting Device\n",
    "\n",
    "Setting the device so it will use the GPU is there is one, and also using the Adam optimizer due to our smaller dataset, and speed."
   ]
  },
  {
   "cell_type": "code",
   "execution_count": 7,
   "metadata": {},
   "outputs": [],
   "source": [
    "def optimizer(lr = 0.01):\n",
    "    \n",
    "    # Adam optimizer\n",
    "    optimizer = optim.Adam(net.parameters(), lr=lr)\n",
    "    return optimizer\n",
    "\n",
    "device = torch.device(\"cuda:0\" if torch.cuda.is_available() else \"cpu\")\n",
    "net.to(device)\n",
    "\n",
    "optimizer_ = optimizer()"
   ]
  },
  {
   "cell_type": "markdown",
   "metadata": {},
   "source": [
    "# Training Loop\n",
    "\n",
    "Now that we have most of our functions made we can now make our training loop. This is where we will be training our model and seeing how well it does."
   ]
  },
  {
   "cell_type": "code",
   "execution_count": 8,
   "metadata": {},
   "outputs": [],
   "source": [
    "def training(numb_epochs=10):\n",
    "    # Saving all epoch losses to visualize later\n",
    "    epoch_losses = []\n",
    "    \n",
    "    # Training the model for how many times we say to\n",
    "    for epoch in range(numb_epochs):\n",
    "        # Saving the running loss\n",
    "        running_loss = 0.0\n",
    "        \n",
    "        for inputs, labels in train_loader:\n",
    "            # Moving the data to the GPU (unless I am on my laptop)\n",
    "            inputs, labels = inputs.to(device), labels.to(device)\n",
    "            # zero the gradients\n",
    "            optimizer_.zero_grad()\n",
    "            # Forward pass\n",
    "            outputs = net(inputs)\n",
    "            # Squeeze outputs to match the shape of labels\n",
    "            outputs = outputs\n",
    "            # Calculating the loss  \n",
    "            loss = net.loss(outputs, labels)\n",
    "            # Backward pass to compute the gradients\n",
    "            loss.backward()\n",
    "            # Updating Parameters\n",
    "            optimizer_.step()\n",
    "            # Update Running loss for this epoch\n",
    "            running_loss += loss.item()\n",
    "        \n",
    "        # Calculate the average loss for this epoch\n",
    "        epoch_loss = running_loss / len(train_loader)\n",
    "        epoch_losses.append(epoch_loss)\n",
    "        \n",
    "        # Print the average loss for this epoch\n",
    "        print(f\"Epoch {epoch + 1}, Loss: {epoch_loss}\")\n",
    "    \n",
    "    # Plotting loss values\n",
    "    plt.plot(range(1, numb_epochs + 1), epoch_losses, marker='o')\n",
    "    plt.xlabel('Epoch')\n",
    "    plt.ylabel('Loss')\n",
    "    plt.title('Training Loss vs. Epochs')\n",
    "    plt.grid(True)\n",
    "    plt.show()\n",
    "    \n",
    "    # DONE\n",
    "    print(\"Training finished.\")\n"
   ]
  },
  {
   "cell_type": "markdown",
   "metadata": {},
   "source": [
    "# Starting the Training"
   ]
  },
  {
   "cell_type": "code",
   "execution_count": 9,
   "metadata": {},
   "outputs": [
    {
     "name": "stdout",
     "output_type": "stream",
     "text": [
      "Epoch 1, Loss: 0.7019973439555014\n",
      "Epoch 2, Loss: 0.691411204107346\n",
      "Epoch 3, Loss: 0.6870200041801698\n",
      "Epoch 4, Loss: 0.6728023705943939\n",
      "Epoch 5, Loss: 0.6615581616278617\n",
      "Epoch 6, Loss: 0.6588094157557334\n",
      "Epoch 7, Loss: 0.656672542710458\n",
      "Epoch 8, Loss: 0.6582630592007791\n",
      "Epoch 9, Loss: 0.6575275209642226\n",
      "Epoch 10, Loss: 0.6565334393132117\n",
      "Epoch 11, Loss: 0.6557058826569588\n",
      "Epoch 12, Loss: 0.6562187117914999\n",
      "Epoch 13, Loss: 0.6565799155542927\n",
      "Epoch 14, Loss: 0.6571357354041069\n",
      "Epoch 15, Loss: 0.6563896940600488\n",
      "Epoch 16, Loss: 0.6558985721680426\n",
      "Epoch 17, Loss: 0.6554783790342269\n",
      "Epoch 18, Loss: 0.6562784129573452\n",
      "Epoch 19, Loss: 0.6574997751943527\n",
      "Epoch 20, Loss: 0.6562606192404224\n",
      "Epoch 21, Loss: 0.6557550372615937\n",
      "Epoch 22, Loss: 0.6558383772450108\n",
      "Epoch 23, Loss: 0.6550231364465529\n",
      "Epoch 24, Loss: 0.6561995929287326\n",
      "Epoch 25, Loss: 0.6557274018564532\n",
      "Epoch 26, Loss: 0.6552553515280447\n",
      "Epoch 27, Loss: 0.656061403982101\n",
      "Epoch 28, Loss: 0.65491607727543\n",
      "Epoch 29, Loss: 0.6543098053624553\n",
      "Epoch 30, Loss: 0.6559004814394058\n",
      "Epoch 31, Loss: 0.6551433470941359\n",
      "Epoch 32, Loss: 0.6557656538101935\n",
      "Epoch 33, Loss: 0.6549298463329192\n",
      "Epoch 34, Loss: 0.6552993147603927\n",
      "Epoch 35, Loss: 0.6550227222904083\n",
      "Epoch 36, Loss: 0.6563693035033441\n",
      "Epoch 37, Loss: 0.65555469951322\n",
      "Epoch 38, Loss: 0.6545983341432386\n",
      "Epoch 39, Loss: 0.6554731280572953\n",
      "Epoch 40, Loss: 0.6551304340362549\n",
      "Epoch 41, Loss: 0.6555383066977224\n",
      "Epoch 42, Loss: 0.6550286904458077\n",
      "Epoch 43, Loss: 0.6553823309559976\n",
      "Epoch 44, Loss: 0.6550078342037816\n",
      "Epoch 45, Loss: 0.65491364079137\n",
      "Epoch 46, Loss: 0.6553386099876896\n",
      "Epoch 47, Loss: 0.654921700877528\n",
      "Epoch 48, Loss: 0.6548972402849506\n",
      "Epoch 49, Loss: 0.6553811534758537\n",
      "Epoch 50, Loss: 0.6549353015038275\n",
      "Epoch 51, Loss: 0.6558308155305924\n",
      "Epoch 52, Loss: 0.6551244743408695\n",
      "Epoch 53, Loss: 0.6550703644752502\n",
      "Epoch 54, Loss: 0.6551965836555728\n",
      "Epoch 55, Loss: 0.654688290626772\n",
      "Epoch 56, Loss: 0.6546489254120857\n",
      "Epoch 57, Loss: 0.6554041062631915\n",
      "Epoch 58, Loss: 0.6544778589279421\n",
      "Epoch 59, Loss: 0.6557765633829178\n",
      "Epoch 60, Loss: 0.6550363213785233\n",
      "Epoch 61, Loss: 0.6549900135686321\n",
      "Epoch 62, Loss: 0.6548510609134551\n",
      "Epoch 63, Loss: 0.6554360166672737\n",
      "Epoch 64, Loss: 0.6548852455231451\n",
      "Epoch 65, Loss: 0.6548076964193775\n",
      "Epoch 66, Loss: 0.6544674369596666\n",
      "Epoch 67, Loss: 0.6550815632266384\n",
      "Epoch 68, Loss: 0.6546936515838869\n",
      "Epoch 69, Loss: 0.6546404023324289\n",
      "Epoch 70, Loss: 0.6544560951571311\n",
      "Epoch 71, Loss: 0.6546067595481873\n",
      "Epoch 72, Loss: 0.6555050150040658\n",
      "Epoch 73, Loss: 0.6550842946575534\n",
      "Epoch 74, Loss: 0.654743032686172\n",
      "Epoch 75, Loss: 0.6547798172120125\n",
      "Epoch 76, Loss: 0.6547670422061798\n",
      "Epoch 77, Loss: 0.6550484084313916\n",
      "Epoch 78, Loss: 0.6550142345889922\n",
      "Epoch 79, Loss: 0.6549986950812802\n",
      "Epoch 80, Loss: 0.6544392335799433\n",
      "Epoch 81, Loss: 0.654209602263666\n",
      "Epoch 82, Loss: 0.6551075562354057\n",
      "Epoch 83, Loss: 0.654303095417638\n",
      "Epoch 84, Loss: 0.6544117250750142\n",
      "Epoch 85, Loss: 0.6551256791237862\n",
      "Epoch 86, Loss: 0.6543107959531969\n",
      "Epoch 87, Loss: 0.6544565623806369\n",
      "Epoch 88, Loss: 0.6544545823527921\n",
      "Epoch 89, Loss: 0.6542818665504455\n",
      "Epoch 90, Loss: 0.6546618373163284\n",
      "Epoch 91, Loss: 0.6551011966120812\n",
      "Epoch 92, Loss: 0.6542693380386598\n",
      "Epoch 93, Loss: 0.6545378827279614\n",
      "Epoch 94, Loss: 0.6545692440002195\n",
      "Epoch 95, Loss: 0.6546390848775063\n",
      "Epoch 96, Loss: 0.6551799431923897\n",
      "Epoch 97, Loss: 0.654332963497408\n",
      "Epoch 98, Loss: 0.6542633733441753\n",
      "Epoch 99, Loss: 0.6545220486579403\n",
      "Epoch 100, Loss: 0.6539127772854221\n"
     ]
    },
    {
     "data": {
      "image/png": "[encoded data removed]",
      "text/plain": [
       "<Figure size 640x480 with 1 Axes>"
      ]
     },
     "metadata": {},
     "output_type": "display_data"
    },
    {
     "name": "stdout",
     "output_type": "stream",
     "text": [
      "Training finished.\n"
     ]
    }
   ],
   "source": [
    "numb_epochs = 100\n",
    "training(numb_epochs)"
   ]
  },
  {
   "cell_type": "markdown",
   "metadata": {},
   "source": [
    "# Evaluate the Model\n",
    "\n",
    "We got the model to train wooooooooo now we have to see if it is actually any good"
   ]
  },
  {
   "cell_type": "code",
   "execution_count": 10,
   "metadata": {},
   "outputs": [],
   "source": [
    "def evaluate_model(model, test_loader, criterion):\n",
    "    model.eval()\n",
    "    total_loss = 0.0\n",
    "    correct = 0\n",
    "    total = 0\n",
    "\n",
    "    with torch.no_grad():\n",
    "        for inputs, labels in test_loader:\n",
    "            inputs, labels = inputs.to(device), labels.to(device)\n",
    "            outputs = model(inputs)\n",
    "            loss = criterion(outputs, torch.argmax(labels, dim=1))\n",
    "            total_loss += loss.item()\n",
    "\n",
    "            _, predicted = torch.max(outputs.data, 1)\n",
    "            total += labels.size(0)\n",
    "            correct += (predicted == torch.argmax(labels, dim=1)).sum().item() \n",
    "\n",
    "    test_loss = total_loss / len(test_loader)\n",
    "    test_accuracy = 100 * correct / total\n",
    "\n",
    "    print(f\"Test Loss: {test_loss:.4f}, Test Accuracy: {test_accuracy:.2f}%\")"
   ]
  },
  {
   "cell_type": "markdown",
   "metadata": {},
   "source": [
    "# PLEASE READ\n",
    "\n",
    "**The test accuracy looks very low, however we must also realize that this is not as simple as training dogs and cat images and the MNIST dataset thing**\n",
    "\n",
    "**UFC fights have upsets and injuries, and sadly rigging so we ARE NOT EXPECTING really high performance like 90% in this model it is just UNREALISTIC**"
   ]
  },
  {
   "cell_type": "code",
   "execution_count": 11,
   "metadata": {},
   "outputs": [
    {
     "name": "stdout",
     "output_type": "stream",
     "text": [
      "Test Loss: 0.6308, Test Accuracy: 66.02%\n"
     ]
    }
   ],
   "source": [
    "criterion = nn.CrossEntropyLoss()\n",
    "evaluate_model(net, test_loader, criterion)"
   ]
  },
  {
   "cell_type": "markdown",
   "metadata": {},
   "source": []
  }
 ],
 "metadata": {
  "kernelspec": {
   "display_name": "Python 3",
   "language": "python",
   "name": "python3"
  },
  "language_info": {
   "codemirror_mode": {
    "name": "ipython",
    "version": 3
   },
   "file_extension": ".py",
   "mimetype": "text/x-python",
   "name": "python",
   "nbconvert_exporter": "python",
   "pygments_lexer": "ipython3",
   "version": "3.9.13"
  },
  "orig_nbformat": 4
 },
 "nbformat": 4,
 "nbformat_minor": 2
}
