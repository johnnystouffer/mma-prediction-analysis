{
 "cells": [
  {
   "cell_type": "markdown",
   "id": "321dc5e5",
   "metadata": {},
   "source": [
    "# UFC FIGHT PREDICTOR (WebScraping)\n",
    "\n",
    "Searching through peoples projects especially on Kaggle, there are not many good models to predict UFC fights...\n",
    "what I am doing to make mine different is taking in a couple factors other datasets did not\n",
    "\n",
    "* height\n",
    "* weight\n",
    "* reach\n",
    "\n",
    "And if I cannot get good enough results with that then\n",
    "\n",
    "* record\n",
    "\n",
    "_the reason we don't want to use record right now is because it would be a whole nother project to pull their records at the time of the fight... therefore if we use record it would be their record TODAY and not in the past_\n",
    "\n",
    "Even though UFC fights are somewhat unpredicatable because a good hit is a good hit **My goal\n",
    "is to make a model more accurate then the models I have already seen**"
   ]
  },
  {
   "cell_type": "markdown",
   "id": "a14c5af7",
   "metadata": {},
   "source": [
    "# Importing Necessary Libraries"
   ]
  },
  {
   "cell_type": "code",
   "execution_count": 1,
   "id": "fcbe3dfd",
   "metadata": {},
   "outputs": [],
   "source": [
    "from bs4 import BeautifulSoup # Our webscraper\n",
    "import pandas as pd # For our Data\n",
    "import requests # To pull the website\n",
    "import string # because I am lazy and not listing every single letter"
   ]
  },
  {
   "cell_type": "markdown",
   "id": "face1006",
   "metadata": {},
   "source": [
    "# Building and Running our Scraper"
   ]
  },
  {
   "cell_type": "code",
   "execution_count": 2,
   "id": "c05b8a00",
   "metadata": {},
   "outputs": [],
   "source": [
    "# Website lists fighters A - Z so to go through each letter we have the alphabet listed\n",
    "letters = list(string.ascii_lowercase) \n",
    "each_row = [] \n",
    "\n",
    "for letter in letters:\n",
    "    # website goes by last name\n",
    "    website = f\"http://ufcstats.com/statistics/fighters?char={letter}&page=all\"\n",
    "    response = requests.get(website)\n",
    "    \n",
    "    # building the scraper for all table rows or 'tr'\n",
    "    soup = BeautifulSoup(response.content, 'html.parser')\n",
    "    rows = soup.find_all('tr', class_='b-statistics__table-row')\n",
    "    \n",
    "    # For each row finding all table data 'td' in the row\n",
    "    for row in rows:\n",
    "        name_info = row.find_all('td', class_=\"b-statistics__table-col\")\n",
    "        \n",
    "        # For every data point we find assign it accordingly\n",
    "        if len(name_info) > 1:\n",
    "            firstname = name_info[0].get_text(strip=True)\n",
    "            lastname = name_info[1].get_text(strip = True)\n",
    "            nickname = name_info[2].get_text(strip = True)\n",
    "            height = name_info[3].get_text(strip = True)\n",
    "            weight = name_info[4].get_text(strip = True)\n",
    "            reach = name_info[5].get_text(strip = True)\n",
    "            stance = name_info[6].get_text(strip = True)\n",
    "            wins = name_info[7].get_text(strip = True)\n",
    "            losses = name_info[8].get_text(strip = True)\n",
    "            draws = name_info[9].get_text(strip = True)\n",
    "            \n",
    "            # Add to one large list to reform the row\n",
    "            complete_row = [firstname, lastname, nickname, height, weight,\n",
    "                            reach, stance, wins, losses, draws]\n",
    "            \n",
    "            # adding all rows to our empty list\n",
    "            each_row.append(complete_row)"
   ]
  },
  {
   "cell_type": "markdown",
   "id": "2d151ff8",
   "metadata": {},
   "source": [
    "# Making our DataFrame"
   ]
  },
  {
   "cell_type": "code",
   "execution_count": 3,
   "id": "2d33d195",
   "metadata": {},
   "outputs": [
    {
     "data": {
      "text/html": [
       "<div>\n",
       "<style scoped>\n",
       "    .dataframe tbody tr th:only-of-type {\n",
       "        vertical-align: middle;\n",
       "    }\n",
       "\n",
       "    .dataframe tbody tr th {\n",
       "        vertical-align: top;\n",
       "    }\n",
       "\n",
       "    .dataframe thead th {\n",
       "        text-align: right;\n",
       "    }\n",
       "</style>\n",
       "<table border=\"1\" class=\"dataframe\">\n",
       "  <thead>\n",
       "    <tr style=\"text-align: right;\">\n",
       "      <th></th>\n",
       "      <th>First</th>\n",
       "      <th>Last</th>\n",
       "      <th>Nickname</th>\n",
       "      <th>HT</th>\n",
       "      <th>WT</th>\n",
       "      <th>Reach</th>\n",
       "      <th>Stance</th>\n",
       "      <th>Win</th>\n",
       "      <th>Loss</th>\n",
       "      <th>Draw</th>\n",
       "    </tr>\n",
       "  </thead>\n",
       "  <tbody>\n",
       "    <tr>\n",
       "      <th>0</th>\n",
       "      <td>Tom</td>\n",
       "      <td>Aaron</td>\n",
       "      <td></td>\n",
       "      <td>--</td>\n",
       "      <td>155 lbs.</td>\n",
       "      <td>--</td>\n",
       "      <td></td>\n",
       "      <td>5</td>\n",
       "      <td>3</td>\n",
       "      <td>0</td>\n",
       "    </tr>\n",
       "    <tr>\n",
       "      <th>1</th>\n",
       "      <td>Danny</td>\n",
       "      <td>Abbadi</td>\n",
       "      <td>The Assassin</td>\n",
       "      <td>5' 11\"</td>\n",
       "      <td>155 lbs.</td>\n",
       "      <td>--</td>\n",
       "      <td>Orthodox</td>\n",
       "      <td>4</td>\n",
       "      <td>6</td>\n",
       "      <td>0</td>\n",
       "    </tr>\n",
       "    <tr>\n",
       "      <th>2</th>\n",
       "      <td>Nariman</td>\n",
       "      <td>Abbasov</td>\n",
       "      <td>Bayraktar</td>\n",
       "      <td>5' 8\"</td>\n",
       "      <td>155 lbs.</td>\n",
       "      <td>66.0\"</td>\n",
       "      <td>Orthodox</td>\n",
       "      <td>28</td>\n",
       "      <td>4</td>\n",
       "      <td>0</td>\n",
       "    </tr>\n",
       "    <tr>\n",
       "      <th>3</th>\n",
       "      <td>David</td>\n",
       "      <td>Abbott</td>\n",
       "      <td>Tank</td>\n",
       "      <td>6' 0\"</td>\n",
       "      <td>265 lbs.</td>\n",
       "      <td>--</td>\n",
       "      <td>Switch</td>\n",
       "      <td>10</td>\n",
       "      <td>15</td>\n",
       "      <td>0</td>\n",
       "    </tr>\n",
       "    <tr>\n",
       "      <th>4</th>\n",
       "      <td>Hamdy</td>\n",
       "      <td>Abdelwahab</td>\n",
       "      <td>The Hammer</td>\n",
       "      <td>6' 2\"</td>\n",
       "      <td>264 lbs.</td>\n",
       "      <td>72.0\"</td>\n",
       "      <td>Southpaw</td>\n",
       "      <td>5</td>\n",
       "      <td>0</td>\n",
       "      <td>0</td>\n",
       "    </tr>\n",
       "  </tbody>\n",
       "</table>\n",
       "</div>"
      ],
      "text/plain": [
       "     First        Last      Nickname      HT        WT  Reach    Stance Win  \\\n",
       "0      Tom       Aaron                    --  155 lbs.     --             5   \n",
       "1    Danny      Abbadi  The Assassin  5' 11\"  155 lbs.     --  Orthodox   4   \n",
       "2  Nariman     Abbasov     Bayraktar   5' 8\"  155 lbs.  66.0\"  Orthodox  28   \n",
       "3    David      Abbott          Tank   6' 0\"  265 lbs.     --    Switch  10   \n",
       "4    Hamdy  Abdelwahab    The Hammer   6' 2\"  264 lbs.  72.0\"  Southpaw   5   \n",
       "\n",
       "  Loss Draw  \n",
       "0    3    0  \n",
       "1    6    0  \n",
       "2    4    0  \n",
       "3   15    0  \n",
       "4    0    0  "
      ]
     },
     "execution_count": 3,
     "metadata": {},
     "output_type": "execute_result"
    }
   ],
   "source": [
    "# Making the Dataset and naming everything accordling\n",
    "ufc_fighters = pd.DataFrame(each_row)\n",
    "ufc_fighters = ufc_fighters.rename(columns = {0: 'First', 1: 'Last', 2: 'Nickname', 3: 'HT', 4: 'WT', 5: 'Reach', 6: 'Stance', \n",
    "                                              7: 'Win', 8: 'Loss', 9: 'Draw'})\n",
    "ufc_fighters.head()"
   ]
  },
  {
   "cell_type": "code",
   "execution_count": 4,
   "id": "83e0b453",
   "metadata": {
    "scrolled": true
   },
   "outputs": [
    {
     "data": {
      "text/html": [
       "<div>\n",
       "<style scoped>\n",
       "    .dataframe tbody tr th:only-of-type {\n",
       "        vertical-align: middle;\n",
       "    }\n",
       "\n",
       "    .dataframe tbody tr th {\n",
       "        vertical-align: top;\n",
       "    }\n",
       "\n",
       "    .dataframe thead th {\n",
       "        text-align: right;\n",
       "    }\n",
       "</style>\n",
       "<table border=\"1\" class=\"dataframe\">\n",
       "  <thead>\n",
       "    <tr style=\"text-align: right;\">\n",
       "      <th></th>\n",
       "      <th>First</th>\n",
       "      <th>Last</th>\n",
       "      <th>Nickname</th>\n",
       "      <th>HT</th>\n",
       "      <th>WT</th>\n",
       "      <th>Reach</th>\n",
       "      <th>Stance</th>\n",
       "      <th>Win</th>\n",
       "      <th>Loss</th>\n",
       "      <th>Draw</th>\n",
       "    </tr>\n",
       "  </thead>\n",
       "  <tbody>\n",
       "    <tr>\n",
       "      <th>4073</th>\n",
       "      <td>Dave</td>\n",
       "      <td>Zitanick</td>\n",
       "      <td></td>\n",
       "      <td>--</td>\n",
       "      <td>170 lbs.</td>\n",
       "      <td>--</td>\n",
       "      <td></td>\n",
       "      <td>5</td>\n",
       "      <td>7</td>\n",
       "      <td>0</td>\n",
       "    </tr>\n",
       "    <tr>\n",
       "      <th>4074</th>\n",
       "      <td>Alex</td>\n",
       "      <td>Zuniga</td>\n",
       "      <td></td>\n",
       "      <td>--</td>\n",
       "      <td>145 lbs.</td>\n",
       "      <td>--</td>\n",
       "      <td></td>\n",
       "      <td>6</td>\n",
       "      <td>3</td>\n",
       "      <td>0</td>\n",
       "    </tr>\n",
       "    <tr>\n",
       "      <th>4075</th>\n",
       "      <td>George</td>\n",
       "      <td>Zuniga</td>\n",
       "      <td></td>\n",
       "      <td>5' 9\"</td>\n",
       "      <td>185 lbs.</td>\n",
       "      <td>--</td>\n",
       "      <td></td>\n",
       "      <td>3</td>\n",
       "      <td>1</td>\n",
       "      <td>0</td>\n",
       "    </tr>\n",
       "    <tr>\n",
       "      <th>4076</th>\n",
       "      <td>Allan</td>\n",
       "      <td>Zuniga</td>\n",
       "      <td>Tigre</td>\n",
       "      <td>5' 7\"</td>\n",
       "      <td>155 lbs.</td>\n",
       "      <td>70.0\"</td>\n",
       "      <td>Orthodox</td>\n",
       "      <td>13</td>\n",
       "      <td>1</td>\n",
       "      <td>0</td>\n",
       "    </tr>\n",
       "    <tr>\n",
       "      <th>4077</th>\n",
       "      <td>Virgil</td>\n",
       "      <td>Zwicker</td>\n",
       "      <td>RezDog</td>\n",
       "      <td>6' 2\"</td>\n",
       "      <td>205 lbs.</td>\n",
       "      <td>74.0\"</td>\n",
       "      <td></td>\n",
       "      <td>15</td>\n",
       "      <td>6</td>\n",
       "      <td>1</td>\n",
       "    </tr>\n",
       "  </tbody>\n",
       "</table>\n",
       "</div>"
      ],
      "text/plain": [
       "       First      Last Nickname     HT        WT  Reach    Stance Win Loss  \\\n",
       "4073    Dave  Zitanick              --  170 lbs.     --             5    7   \n",
       "4074    Alex    Zuniga              --  145 lbs.     --             6    3   \n",
       "4075  George    Zuniga           5' 9\"  185 lbs.     --             3    1   \n",
       "4076   Allan    Zuniga    Tigre  5' 7\"  155 lbs.  70.0\"  Orthodox  13    1   \n",
       "4077  Virgil   Zwicker   RezDog  6' 2\"  205 lbs.  74.0\"            15    6   \n",
       "\n",
       "     Draw  \n",
       "4073    0  \n",
       "4074    0  \n",
       "4075    0  \n",
       "4076    0  \n",
       "4077    1  "
      ]
     },
     "execution_count": 4,
     "metadata": {},
     "output_type": "execute_result"
    }
   ],
   "source": [
    "ufc_fighters.tail()"
   ]
  },
  {
   "cell_type": "markdown",
   "id": "e30b5f49",
   "metadata": {},
   "source": [
    "Our dataset seems to have worked exactly how we wanted it to thankfully"
   ]
  },
  {
   "cell_type": "markdown",
   "id": "9e8b7ab2",
   "metadata": {},
   "source": [
    "# Exporting"
   ]
  },
  {
   "cell_type": "code",
   "execution_count": 5,
   "id": "9a7f54d4",
   "metadata": {},
   "outputs": [],
   "source": [
    "ufc_fighters.to_csv('ufc_fighters.csv', index = False)"
   ]
  },
  {
   "cell_type": "markdown",
   "id": "fbe4b70a",
   "metadata": {},
   "source": [
    "# Second Scraper for More Data"
   ]
  },
  {
   "cell_type": "markdown",
   "id": "02bd5fd2",
   "metadata": {},
   "source": [
    "First we need to get each link to every fight in the past 10ish years"
   ]
  },
  {
   "cell_type": "code",
   "execution_count": 6,
   "id": "411bc576",
   "metadata": {},
   "outputs": [],
   "source": [
    "# Defining the website used and giving an empty list for all websites of each fight to be used\n",
    "website = \"http://www.ufcstats.com/statistics/events/completed?page=all\"\n",
    "websites = []\n",
    "\n",
    "# Once again requesting rhe website and scraping all 'a' divs since they contain urls\n",
    "response = requests.get(website)\n",
    "soup = BeautifulSoup(response.content, 'html.parser')\n",
    "links = soup.find_all('a', class_ = \"b-link b-link_style_black\")\n",
    "\n",
    "# The section the URL is in is the HREF so we find all of those then add it to the list\n",
    "for link in links:\n",
    "    url = link['href']\n",
    "    websites.append(url)"
   ]
  },
  {
   "cell_type": "markdown",
   "id": "61a5c185",
   "metadata": {},
   "source": [
    "Now that we have the link to every fight we need to find the link to every fight"
   ]
  },
  {
   "cell_type": "code",
   "execution_count": 7,
   "id": "ba5090bb",
   "metadata": {
    "scrolled": false
   },
   "outputs": [],
   "source": [
    "# Now that we have the links to every fight we scarpe every fight for its info\n",
    "fights = []\n",
    "\n",
    "# For every fight we scrape the fighters\n",
    "for site in websites:\n",
    "    response = requests.get(site)\n",
    "    soup = BeautifulSoup(response.content, 'html.parser')\n",
    "    fighters = soup.find_all('a', class_ = 'b-link b-link_style_black')\n",
    "    \n",
    "    # Extracting who fought in each fight (the way UFC ordered it was odd numbers won and even number lost)\n",
    "    for fight in fighters:\n",
    "        text = fight.text.strip()\n",
    "        fights.append(text)"
   ]
  },
  {
   "cell_type": "code",
   "execution_count": 8,
   "id": "d59723b9",
   "metadata": {},
   "outputs": [
    {
     "data": {
      "text/plain": [
       "7245.0"
      ]
     },
     "execution_count": 8,
     "metadata": {},
     "output_type": "execute_result"
    }
   ],
   "source": [
    "# Two fighter in each fight therefore divide by 2 is amount of fights\n",
    "len(fights)/2"
   ]
  },
  {
   "cell_type": "markdown",
   "id": "8d23041d",
   "metadata": {},
   "source": [
    "# Making the Dataset"
   ]
  },
  {
   "cell_type": "code",
   "execution_count": 9,
   "id": "348bcf15",
   "metadata": {},
   "outputs": [],
   "source": [
    "# Making empty lists and n variable\n",
    "winners = []\n",
    "losers = []\n",
    "n = 1\n",
    "\n",
    "# The data was ordered that all odd numbers listed in the fight was the winner\n",
    "for fighters in fights:\n",
    "    if n%2 == 0:\n",
    "        losers.append(fighters)\n",
    "    else:\n",
    "        winners.append(fighters)\n",
    "    n += 1        "
   ]
  },
  {
   "cell_type": "code",
   "execution_count": 10,
   "id": "c6beb15b",
   "metadata": {},
   "outputs": [
    {
     "data": {
      "text/plain": [
       "True"
      ]
     },
     "execution_count": 10,
     "metadata": {},
     "output_type": "execute_result"
    }
   ],
   "source": [
    "# If equal it most likely worked\n",
    "len(winners) == len(losers)"
   ]
  },
  {
   "cell_type": "code",
   "execution_count": 11,
   "id": "006d5f86",
   "metadata": {},
   "outputs": [
    {
     "data": {
      "text/plain": [
       "('Scott Morris', 'Sean Daugherty')"
      ]
     },
     "execution_count": 11,
     "metadata": {},
     "output_type": "execute_result"
    }
   ],
   "source": [
    "# To lastly verify the last fighter that won should be \"\"Scott Morris\"\"\n",
    "# And the last to lose should be \"\"Sean Daugherty\"\"\n",
    "winners[-1], losers[-1]"
   ]
  },
  {
   "cell_type": "markdown",
   "id": "94a63b28",
   "metadata": {},
   "source": [
    "**SUCCESS**"
   ]
  },
  {
   "cell_type": "markdown",
   "id": "ca283e08",
   "metadata": {},
   "source": [
    "# Making our Winners and Fighters Database"
   ]
  },
  {
   "cell_type": "code",
   "execution_count": 12,
   "id": "b0a546a5",
   "metadata": {},
   "outputs": [
    {
     "data": {
      "text/html": [
       "<div>\n",
       "<style scoped>\n",
       "    .dataframe tbody tr th:only-of-type {\n",
       "        vertical-align: middle;\n",
       "    }\n",
       "\n",
       "    .dataframe tbody tr th {\n",
       "        vertical-align: top;\n",
       "    }\n",
       "\n",
       "    .dataframe thead th {\n",
       "        text-align: right;\n",
       "    }\n",
       "</style>\n",
       "<table border=\"1\" class=\"dataframe\">\n",
       "  <thead>\n",
       "    <tr style=\"text-align: right;\">\n",
       "      <th></th>\n",
       "      <th>Winners</th>\n",
       "      <th>Losers</th>\n",
       "    </tr>\n",
       "  </thead>\n",
       "  <tbody>\n",
       "    <tr>\n",
       "      <th>0</th>\n",
       "      <td>Tom Aspinall</td>\n",
       "      <td>Marcin Tybura</td>\n",
       "    </tr>\n",
       "    <tr>\n",
       "      <th>1</th>\n",
       "      <td>Julija Stoliarenko</td>\n",
       "      <td>Molly McCann</td>\n",
       "    </tr>\n",
       "    <tr>\n",
       "      <th>2</th>\n",
       "      <td>Nathaniel Wood</td>\n",
       "      <td>Andre Fili</td>\n",
       "    </tr>\n",
       "    <tr>\n",
       "      <th>3</th>\n",
       "      <td>Paul Craig</td>\n",
       "      <td>Andre Muniz</td>\n",
       "    </tr>\n",
       "    <tr>\n",
       "      <th>4</th>\n",
       "      <td>Fares Ziam</td>\n",
       "      <td>Jai Herbert</td>\n",
       "    </tr>\n",
       "  </tbody>\n",
       "</table>\n",
       "</div>"
      ],
      "text/plain": [
       "              Winners         Losers\n",
       "0        Tom Aspinall  Marcin Tybura\n",
       "1  Julija Stoliarenko   Molly McCann\n",
       "2      Nathaniel Wood     Andre Fili\n",
       "3          Paul Craig    Andre Muniz\n",
       "4          Fares Ziam    Jai Herbert"
      ]
     },
     "execution_count": 12,
     "metadata": {},
     "output_type": "execute_result"
    }
   ],
   "source": [
    "# Turn into dictionary\n",
    "ufc_fights = {\n",
    "    'Winners': winners,\n",
    "    'Losers': losers\n",
    "}\n",
    "\n",
    "# Convert to pandas because pandas is our friend and easier to use\n",
    "ufc_fights = pd.DataFrame(ufc_fights)\n",
    "ufc_fights.head()"
   ]
  },
  {
   "cell_type": "code",
   "execution_count": 13,
   "id": "4792a85b",
   "metadata": {},
   "outputs": [],
   "source": [
    "ufc_fights.to_csv('fights.csv')"
   ]
  },
  {
   "cell_type": "markdown",
   "id": "a84b8694",
   "metadata": {},
   "source": [
    "Next Step is to organize our data"
   ]
  }
 ],
 "metadata": {
  "kernelspec": {
   "display_name": "Python 3 (ipykernel)",
   "language": "python",
   "name": "python3"
  },
  "language_info": {
   "codemirror_mode": {
    "name": "ipython",
    "version": 3
   },
   "file_extension": ".py",
   "mimetype": "text/x-python",
   "name": "python",
   "nbconvert_exporter": "python",
   "pygments_lexer": "ipython3",
   "version": "3.9.13"
  }
 },
 "nbformat": 4,
 "nbformat_minor": 5
}
