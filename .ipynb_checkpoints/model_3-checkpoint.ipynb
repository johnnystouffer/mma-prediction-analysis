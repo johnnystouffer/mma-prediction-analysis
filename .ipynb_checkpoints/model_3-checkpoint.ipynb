{
 "cells": [
  {
   "cell_type": "markdown",
   "metadata": {},
   "source": [
    "# Building a Predictor"
   ]
  },
  {
   "cell_type": "markdown",
   "metadata": {},
   "source": [
    "Now that our data is in here and working the next step is to build the MODEL so we can put it to practice"
   ]
  },
  {
   "cell_type": "code",
   "execution_count": 1,
   "metadata": {},
   "outputs": [],
   "source": [
    "# Importing PyTorch libraries and the traintest split function\n",
    "import torch\n",
    "import torch.nn as nn\n",
    "import torch.optim as optim\n",
    "import torch.nn.functional as F\n",
    "from torch.utils.data import TensorDataset, DataLoader\n",
    "from sklearn.model_selection import train_test_split\n",
    "\n",
    "# Importing libraries for plotting, data, and math\n",
    "import pandas as pd\n",
    "import numpy as np\n",
    "import matplotlib.pyplot as plt"
   ]
  },
  {
   "cell_type": "markdown",
   "metadata": {},
   "source": [
    "# Importing Data and Splitting"
   ]
  },
  {
   "cell_type": "markdown",
   "metadata": {},
   "source": [
    "First step of any machine learning model is to import the data you want to work with and split it into our training and testing data. We will be using the train_test_split function from sklearn to do this."
   ]
  },
  {
   "cell_type": "code",
   "execution_count": 2,
   "metadata": {},
   "outputs": [
    {
     "data": {
      "text/html": [
       "<div>\n",
       "<style scoped>\n",
       "    .dataframe tbody tr th:only-of-type {\n",
       "        vertical-align: middle;\n",
       "    }\n",
       "\n",
       "    .dataframe tbody tr th {\n",
       "        vertical-align: top;\n",
       "    }\n",
       "\n",
       "    .dataframe thead th {\n",
       "        text-align: right;\n",
       "    }\n",
       "</style>\n",
       "<table border=\"1\" class=\"dataframe\">\n",
       "  <thead>\n",
       "    <tr style=\"text-align: right;\">\n",
       "      <th></th>\n",
       "      <th>HeightDiff</th>\n",
       "      <th>WeightDiff</th>\n",
       "      <th>ReachDiff</th>\n",
       "      <th>WinDiff</th>\n",
       "      <th>ExpDiff</th>\n",
       "      <th>DrawDiff</th>\n",
       "      <th>LossDiff</th>\n",
       "      <th>Winner</th>\n",
       "    </tr>\n",
       "  </thead>\n",
       "  <tbody>\n",
       "    <tr>\n",
       "      <th>0</th>\n",
       "      <td>-2.0</td>\n",
       "      <td>-7.0</td>\n",
       "      <td>0.0</td>\n",
       "      <td>-0.062500</td>\n",
       "      <td>16</td>\n",
       "      <td>0.0</td>\n",
       "      <td>0.062500</td>\n",
       "      <td>1</td>\n",
       "    </tr>\n",
       "    <tr>\n",
       "      <th>1</th>\n",
       "      <td>-2.0</td>\n",
       "      <td>-26.0</td>\n",
       "      <td>0.0</td>\n",
       "      <td>-0.221591</td>\n",
       "      <td>6</td>\n",
       "      <td>0.0</td>\n",
       "      <td>0.221591</td>\n",
       "      <td>1</td>\n",
       "    </tr>\n",
       "    <tr>\n",
       "      <th>2</th>\n",
       "      <td>-1.0</td>\n",
       "      <td>9.0</td>\n",
       "      <td>2.0</td>\n",
       "      <td>-0.002976</td>\n",
       "      <td>5</td>\n",
       "      <td>0.0</td>\n",
       "      <td>0.002976</td>\n",
       "      <td>0</td>\n",
       "    </tr>\n",
       "    <tr>\n",
       "      <th>3</th>\n",
       "      <td>-2.0</td>\n",
       "      <td>-13.0</td>\n",
       "      <td>1.0</td>\n",
       "      <td>-0.145833</td>\n",
       "      <td>-4</td>\n",
       "      <td>0.0</td>\n",
       "      <td>0.145833</td>\n",
       "      <td>1</td>\n",
       "    </tr>\n",
       "    <tr>\n",
       "      <th>4</th>\n",
       "      <td>-2.0</td>\n",
       "      <td>-16.0</td>\n",
       "      <td>-1.0</td>\n",
       "      <td>-0.205357</td>\n",
       "      <td>40</td>\n",
       "      <td>0.0</td>\n",
       "      <td>0.205357</td>\n",
       "      <td>1</td>\n",
       "    </tr>\n",
       "  </tbody>\n",
       "</table>\n",
       "</div>"
      ],
      "text/plain": [
       "   HeightDiff  WeightDiff  ReachDiff   WinDiff  ExpDiff  DrawDiff  LossDiff  \\\n",
       "0        -2.0        -7.0        0.0 -0.062500       16       0.0  0.062500   \n",
       "1        -2.0       -26.0        0.0 -0.221591        6       0.0  0.221591   \n",
       "2        -1.0         9.0        2.0 -0.002976        5       0.0  0.002976   \n",
       "3        -2.0       -13.0        1.0 -0.145833       -4       0.0  0.145833   \n",
       "4        -2.0       -16.0       -1.0 -0.205357       40       0.0  0.205357   \n",
       "\n",
       "   Winner  \n",
       "0       1  \n",
       "1       1  \n",
       "2       0  \n",
       "3       1  \n",
       "4       1  "
      ]
     },
     "execution_count": 2,
     "metadata": {},
     "output_type": "execute_result"
    }
   ],
   "source": [
    "# Importing our data\n",
    "data = pd.read_csv('ufc_fights.csv')\n",
    "data.head()"
   ]
  },
  {
   "cell_type": "code",
   "execution_count": 3,
   "metadata": {},
   "outputs": [
    {
     "data": {
      "text/html": [
       "<div>\n",
       "<style scoped>\n",
       "    .dataframe tbody tr th:only-of-type {\n",
       "        vertical-align: middle;\n",
       "    }\n",
       "\n",
       "    .dataframe tbody tr th {\n",
       "        vertical-align: top;\n",
       "    }\n",
       "\n",
       "    .dataframe thead th {\n",
       "        text-align: right;\n",
       "    }\n",
       "</style>\n",
       "<table border=\"1\" class=\"dataframe\">\n",
       "  <thead>\n",
       "    <tr style=\"text-align: right;\">\n",
       "      <th></th>\n",
       "      <th>HeightDiff</th>\n",
       "      <th>WeightDiff</th>\n",
       "      <th>ReachDiff</th>\n",
       "      <th>WinDiff</th>\n",
       "      <th>ExpDiff</th>\n",
       "      <th>DrawDiff</th>\n",
       "      <th>LossDiff</th>\n",
       "    </tr>\n",
       "  </thead>\n",
       "  <tbody>\n",
       "    <tr>\n",
       "      <th>3250</th>\n",
       "      <td>-1.0</td>\n",
       "      <td>0.0</td>\n",
       "      <td>2.0</td>\n",
       "      <td>-0.076531</td>\n",
       "      <td>-21</td>\n",
       "      <td>0.035714</td>\n",
       "      <td>0.040816</td>\n",
       "    </tr>\n",
       "    <tr>\n",
       "      <th>1261</th>\n",
       "      <td>1.0</td>\n",
       "      <td>0.0</td>\n",
       "      <td>3.0</td>\n",
       "      <td>0.002179</td>\n",
       "      <td>-10</td>\n",
       "      <td>-0.037037</td>\n",
       "      <td>0.034858</td>\n",
       "    </tr>\n",
       "    <tr>\n",
       "      <th>22</th>\n",
       "      <td>-1.0</td>\n",
       "      <td>4.0</td>\n",
       "      <td>-4.0</td>\n",
       "      <td>0.047297</td>\n",
       "      <td>-17</td>\n",
       "      <td>0.000000</td>\n",
       "      <td>-0.047297</td>\n",
       "    </tr>\n",
       "    <tr>\n",
       "      <th>619</th>\n",
       "      <td>5.0</td>\n",
       "      <td>0.0</td>\n",
       "      <td>9.0</td>\n",
       "      <td>-0.067766</td>\n",
       "      <td>11</td>\n",
       "      <td>0.000000</td>\n",
       "      <td>0.067766</td>\n",
       "    </tr>\n",
       "    <tr>\n",
       "      <th>114</th>\n",
       "      <td>-4.0</td>\n",
       "      <td>-10.0</td>\n",
       "      <td>1.0</td>\n",
       "      <td>0.020678</td>\n",
       "      <td>8</td>\n",
       "      <td>0.000000</td>\n",
       "      <td>-0.020678</td>\n",
       "    </tr>\n",
       "  </tbody>\n",
       "</table>\n",
       "</div>"
      ],
      "text/plain": [
       "      HeightDiff  WeightDiff  ReachDiff   WinDiff  ExpDiff  DrawDiff  LossDiff\n",
       "3250        -1.0         0.0        2.0 -0.076531      -21  0.035714  0.040816\n",
       "1261         1.0         0.0        3.0  0.002179      -10 -0.037037  0.034858\n",
       "22          -1.0         4.0       -4.0  0.047297      -17  0.000000 -0.047297\n",
       "619          5.0         0.0        9.0 -0.067766       11  0.000000  0.067766\n",
       "114         -4.0       -10.0        1.0  0.020678        8  0.000000 -0.020678"
      ]
     },
     "execution_count": 3,
     "metadata": {},
     "output_type": "execute_result"
    }
   ],
   "source": [
    "# Defining the features and the target\n",
    "X = data[['HeightDiff', 'WeightDiff', 'ReachDiff', 'WinDiff', 'ExpDiff', 'DrawDiff', 'LossDiff']]\n",
    "y = data['Winner']\n",
    "y = torch.eye(2)[y]\n",
    "X_train, X_test, y_train, y_test = train_test_split(X, y, test_size=0.2, random_state=128)\n",
    "X_train.head()"
   ]
  },
  {
   "cell_type": "code",
   "execution_count": 4,
   "metadata": {},
   "outputs": [
    {
     "data": {
      "text/plain": [
       "tensor([[1., 0.],\n",
       "        [0., 1.],\n",
       "        [1., 0.],\n",
       "        ...,\n",
       "        [1., 0.],\n",
       "        [1., 0.],\n",
       "        [0., 1.]])"
      ]
     },
     "execution_count": 4,
     "metadata": {},
     "output_type": "execute_result"
    }
   ],
   "source": [
    "y_train"
   ]
  },
  {
   "cell_type": "markdown",
   "metadata": {},
   "source": [
    "# Making PyTorch understand our data\n",
    "\n",
    "Because PyTorch is a library that can use Tensors we are going to convert all of our data into tensors to speed up the process of training our model and also so we dont have to do it later."
   ]
  },
  {
   "cell_type": "code",
   "execution_count": 5,
   "metadata": {},
   "outputs": [],
   "source": [
    "# Assuming you have already defined X_train_tensor, X_test_tensor, y_train, and y_test\n",
    "\n",
    "# Convert training data into float tensors\n",
    "X_train_tensor = torch.tensor(X_train.values, dtype=torch.float32)\n",
    "X_test_tensor = torch.tensor(X_test.values, dtype=torch.float32)\n",
    "\n",
    "# Convert target labels into long tensors (integers)\n",
    "y_train_tensor = y_train.clone().detach().to(torch.float32)\n",
    "y_test_tensor = y_test.clone().detach().to(torch.float32)\n",
    "\n",
    "# Define the train and test datasets\n",
    "train_dataset = TensorDataset(X_train_tensor, y_train_tensor)\n",
    "test_dataset = TensorDataset(X_test_tensor, y_test_tensor)\n",
    "\n",
    "# Create the train and test data loaders\n",
    "batch_size = 32\n",
    "train_loader = DataLoader(train_dataset, batch_size=batch_size, shuffle=True)\n",
    "test_loader = DataLoader(test_dataset, batch_size=batch_size, shuffle=False)"
   ]
  },
  {
   "cell_type": "markdown",
   "metadata": {},
   "source": [
    "# Making the Neural Network Architecture\n",
    "\n",
    "Given that our data is not very complex we will be using a simple neural network with 2 hidden layers and 1 output layer. We will be using the ReLU activation function for our hidden layers and the Sigmoid activation function for our output layer."
   ]
  },
  {
   "cell_type": "code",
   "execution_count": 6,
   "metadata": {},
   "outputs": [],
   "source": [
    "class Net(nn.Module):\n",
    "    \"\"\"\n",
    "    Defining the neural network architecture with 2 hidden layers and 3 fully connected layers\n",
    "    \n",
    "    forward: like all neural networks, this function takes in the input and passes it through the layers\n",
    "    \n",
    "    loss\n",
    "    \"\"\"\n",
    "    def __init__(self, input_size=7, hidden_1=14, hidden_2 = 4, output_size=2):\n",
    "        super(Net, self).__init__()\n",
    "        self.fc1 = nn.Linear(input_size, hidden_1)\n",
    "        self.fc2 = nn.Linear(hidden_1, hidden_2)\n",
    "        self.fc3 = nn.Linear(hidden_2, output_size)\n",
    "        self.sigmoid = nn.Sigmoid() \n",
    "        self.relu = nn.ReLU()\n",
    "\n",
    "    def forward(self, x):\n",
    "        x = self.relu(self.fc1(x))\n",
    "        x = self.relu(self.fc2(x))\n",
    "        x = self.fc3(x)\n",
    "        output = self.sigmoid(x)\n",
    "        return output\n",
    "    \n",
    "    def loss(self, y_pred, y_true):\n",
    "        # Binary cross entropy loss function\n",
    "        criterion = nn.BCEWithLogitsLoss()\n",
    "        return criterion(y_pred, y_true)\n",
    "\n",
    "# setting this variable for the future\n",
    "net = Net()"
   ]
  },
  {
   "cell_type": "markdown",
   "metadata": {},
   "source": [
    "# Optimizer Function and Setting Device\n",
    "\n",
    "Setting the device so it will use the GPU is there is one, and also using the Adam optimizer due to our smaller dataset, and speed."
   ]
  },
  {
   "cell_type": "code",
   "execution_count": 7,
   "metadata": {},
   "outputs": [],
   "source": [
    "def optimizer(lr = 0.01):\n",
    "    \n",
    "    # Adam optimizer\n",
    "    optimizer = optim.Adam(net.parameters(), lr=lr)\n",
    "    return optimizer\n",
    "\n",
    "device = torch.device(\"cuda:0\" if torch.cuda.is_available() else \"cpu\")\n",
    "net.to(device)\n",
    "\n",
    "optimizer_ = optimizer()"
   ]
  },
  {
   "cell_type": "markdown",
   "metadata": {},
   "source": [
    "# Training Loop\n",
    "\n",
    "Now that we have most of our functions made we can now make our training loop. This is where we will be training our model and seeing how well it does."
   ]
  },
  {
   "cell_type": "code",
   "execution_count": 8,
   "metadata": {},
   "outputs": [],
   "source": [
    "def training(numb_epochs=10):\n",
    "    # Saving all epoch losses to visualize later\n",
    "    epoch_losses = []\n",
    "    \n",
    "    # Training the model for how many times we say to\n",
    "    for epoch in range(numb_epochs):\n",
    "        # Saving the running loss\n",
    "        running_loss = 0.0\n",
    "        \n",
    "        for inputs, labels in train_loader:\n",
    "            # Moving the data to the GPU (unless I am on my laptop)\n",
    "            inputs, labels = inputs.to(device), labels.to(device)\n",
    "            # zero the gradients\n",
    "            optimizer_.zero_grad()\n",
    "            # Forward pass\n",
    "            outputs = net(inputs)\n",
    "            # Squeeze outputs to match the shape of labels\n",
    "            outputs = outputs.squeeze()\n",
    "            # Calculating the loss  \n",
    "            loss = net.loss(outputs, labels)\n",
    "            # Backward pass to compute the gradients\n",
    "            loss.backward()\n",
    "            # Updating Parameters\n",
    "            optimizer_.step()\n",
    "            # Update Running loss for this epoch\n",
    "            running_loss += loss.item()\n",
    "        \n",
    "        # Calculate the average loss for this epoch\n",
    "        epoch_loss = running_loss / len(train_loader)\n",
    "        epoch_losses.append(epoch_loss)\n",
    "        \n",
    "        # Print the average loss for this epoch\n",
    "        print(f\"Epoch {epoch + 1}, Loss: {epoch_loss}\")\n",
    "    \n",
    "    # Plotting loss values\n",
    "    plt.plot(range(1, numb_epochs + 1), epoch_losses, marker='o')\n",
    "    plt.xlabel('Epoch')\n",
    "    plt.ylabel('Loss')\n",
    "    plt.title('Training Loss vs. Epochs')\n",
    "    plt.grid(True)\n",
    "    plt.show()\n",
    "    \n",
    "    # DONE\n",
    "    print(\"Training finished.\")\n"
   ]
  },
  {
   "cell_type": "markdown",
   "metadata": {},
   "source": [
    "# Starting the Training"
   ]
  },
  {
   "cell_type": "code",
   "execution_count": 9,
   "metadata": {},
   "outputs": [
    {
     "name": "stdout",
     "output_type": "stream",
     "text": [
      "Epoch 1, Loss: 0.6960421523740215\n",
      "Epoch 2, Loss: 0.6770576946197018\n",
      "Epoch 3, Loss: 0.6634053349494934\n",
      "Epoch 4, Loss: 0.6594270813849664\n",
      "Epoch 5, Loss: 0.6599538503154632\n",
      "Epoch 6, Loss: 0.6601998675254084\n",
      "Epoch 7, Loss: 0.6590805845875893\n",
      "Epoch 8, Loss: 0.658729374793268\n",
      "Epoch 9, Loss: 0.6588746559235358\n",
      "Epoch 10, Loss: 0.6586478283328395\n",
      "Epoch 11, Loss: 0.6584276272404579\n",
      "Epoch 12, Loss: 0.6578421181248081\n",
      "Epoch 13, Loss: 0.658924062021317\n",
      "Epoch 14, Loss: 0.6573653559530935\n",
      "Epoch 15, Loss: 0.6582988177576373\n",
      "Epoch 16, Loss: 0.6574487282383826\n",
      "Epoch 17, Loss: 0.6565920618272597\n",
      "Epoch 18, Loss: 0.6570995734583946\n",
      "Epoch 19, Loss: 0.655734952803581\n",
      "Epoch 20, Loss: 0.6558390786570888\n",
      "Epoch 21, Loss: 0.6562255113355575\n",
      "Epoch 22, Loss: 0.6565302256614931\n",
      "Epoch 23, Loss: 0.6557546577145976\n",
      "Epoch 24, Loss: 0.6563633703416394\n",
      "Epoch 25, Loss: 0.6561134895970745\n",
      "Epoch 26, Loss: 0.6555369903964381\n",
      "Epoch 27, Loss: 0.6559365549395161\n",
      "Epoch 28, Loss: 0.6559232150354694\n",
      "Epoch 29, Loss: 0.6552975189301276\n",
      "Epoch 30, Loss: 0.6554438683294481\n",
      "Epoch 31, Loss: 0.6552443604315481\n",
      "Epoch 32, Loss: 0.6547331956125075\n",
      "Epoch 33, Loss: 0.6544960506500737\n",
      "Epoch 34, Loss: 0.6553468100486263\n",
      "Epoch 35, Loss: 0.655958439073255\n",
      "Epoch 36, Loss: 0.654805641020498\n",
      "Epoch 37, Loss: 0.6543483441875827\n",
      "Epoch 38, Loss: 0.6546426450052569\n",
      "Epoch 39, Loss: 0.6550539524324479\n",
      "Epoch 40, Loss: 0.6557241086036928\n",
      "Epoch 41, Loss: 0.6549835997243081\n",
      "Epoch 42, Loss: 0.6542556128194256\n",
      "Epoch 43, Loss: 0.6544483873151964\n",
      "Epoch 44, Loss: 0.6541911786602389\n",
      "Epoch 45, Loss: 0.654813555748232\n",
      "Epoch 46, Loss: 0.6544728194513628\n",
      "Epoch 47, Loss: 0.6534645626621861\n",
      "Epoch 48, Loss: 0.6554040024357457\n",
      "Epoch 49, Loss: 0.6550358580004785\n",
      "Epoch 50, Loss: 0.6536857474234796\n",
      "Epoch 51, Loss: 0.6546803324453292\n",
      "Epoch 52, Loss: 0.6535027661631184\n",
      "Epoch 53, Loss: 0.6543305208606105\n",
      "Epoch 54, Loss: 0.6538356669487492\n",
      "Epoch 55, Loss: 0.655351197719574\n",
      "Epoch 56, Loss: 0.655071142027455\n",
      "Epoch 57, Loss: 0.6542219208132836\n",
      "Epoch 58, Loss: 0.6536662878528718\n",
      "Epoch 59, Loss: 0.6544296337712195\n",
      "Epoch 60, Loss: 0.6536508529416977\n",
      "Epoch 61, Loss: 0.6537258932667394\n",
      "Epoch 62, Loss: 0.6541884645338981\n",
      "Epoch 63, Loss: 0.6544564312504184\n",
      "Epoch 64, Loss: 0.6534918454385573\n",
      "Epoch 65, Loss: 0.6538110552295562\n",
      "Epoch 66, Loss: 0.6543524388344057\n",
      "Epoch 67, Loss: 0.65304282634489\n",
      "Epoch 68, Loss: 0.6545931266200158\n",
      "Epoch 69, Loss: 0.6527835930547407\n",
      "Epoch 70, Loss: 0.6538929473969244\n",
      "Epoch 71, Loss: 0.6527688672465662\n",
      "Epoch 72, Loss: 0.6527104600783318\n",
      "Epoch 73, Loss: 0.6536579189761993\n",
      "Epoch 74, Loss: 0.6555801929966096\n",
      "Epoch 75, Loss: 0.6531758346865254\n",
      "Epoch 76, Loss: 0.6531255252899663\n",
      "Epoch 77, Loss: 0.6543074669376496\n",
      "Epoch 78, Loss: 0.6542929791635083\n",
      "Epoch 79, Loss: 0.6541048907464551\n",
      "Epoch 80, Loss: 0.6532756359346451\n",
      "Epoch 81, Loss: 0.6538565362653425\n",
      "Epoch 82, Loss: 0.6536649700134031\n",
      "Epoch 83, Loss: 0.6533131880144919\n",
      "Epoch 84, Loss: 0.6531403164709768\n",
      "Epoch 85, Loss: 0.6523044582336179\n",
      "Epoch 86, Loss: 0.653483130854945\n",
      "Epoch 87, Loss: 0.6540397328715171\n",
      "Epoch 88, Loss: 0.652951310142394\n",
      "Epoch 89, Loss: 0.6526842382646376\n",
      "Epoch 90, Loss: 0.6535423863318659\n",
      "Epoch 91, Loss: 0.6547728146276166\n",
      "Epoch 92, Loss: 0.6532103084748792\n",
      "Epoch 93, Loss: 0.652385974314905\n",
      "Epoch 94, Loss: 0.6541423432288631\n",
      "Epoch 95, Loss: 0.6540405081164452\n",
      "Epoch 96, Loss: 0.6543812974806755\n",
      "Epoch 97, Loss: 0.6547023180992373\n",
      "Epoch 98, Loss: 0.6539551565724034\n",
      "Epoch 99, Loss: 0.652438376411315\n",
      "Epoch 100, Loss: 0.6530195059314851\n"
     ]
    },
    {
     "data": {
      "image/png": "[encoded data removed]",
      "text/plain": [
       "<Figure size 640x480 with 1 Axes>"
      ]
     },
     "metadata": {},
     "output_type": "display_data"
    },
    {
     "name": "stdout",
     "output_type": "stream",
     "text": [
      "Training finished.\n"
     ]
    }
   ],
   "source": [
    "numb_epochs = 100\n",
    "training(numb_epochs)"
   ]
  },
  {
   "cell_type": "markdown",
   "metadata": {},
   "source": [
    "# Evaluate the Model\n",
    "\n",
    "We got the model to train wooooooooo now we have to see if it is actually any good"
   ]
  },
  {
   "cell_type": "code",
   "execution_count": 10,
   "metadata": {},
   "outputs": [],
   "source": [
    "def evaluate_model(model, test_loader, criterion):\n",
    "    model.eval()\n",
    "    total_loss = 0.0\n",
    "    correct = 0\n",
    "    total = 0\n",
    "\n",
    "    with torch.no_grad():\n",
    "        for inputs, labels in test_loader:\n",
    "            inputs, labels = inputs.to(device), labels.to(device)\n",
    "            outputs = model(inputs)\n",
    "            loss = criterion(outputs, torch.argmax(labels, dim=1))\n",
    "            total_loss += loss.item()\n",
    "\n",
    "            _, predicted = torch.max(outputs.data, 1)\n",
    "            total += labels.size(0)\n",
    "            correct += (predicted == torch.argmax(labels, dim=1)).sum().item() \n",
    "\n",
    "    test_loss = total_loss / len(test_loader)\n",
    "    test_accuracy = 100 * correct / total\n",
    "\n",
    "    print(f\"Test Loss: {test_loss:.4f}, Test Accuracy: {test_accuracy:.2f}%\")"
   ]
  },
  {
   "cell_type": "markdown",
   "metadata": {},
   "source": [
    "# PLEASE READ\n",
    "\n",
    "**The test accuracy looks very low, however we must also realize that this is not as simple as training dogs and cat images and the MNIST dataset thing**\n",
    "\n",
    "**UFC fights have upsets and injuries, and sadly rigging so we ARE NOT EXPECTING really high performance like 90% in this model it is just UNREALISTIC**"
   ]
  },
  {
   "cell_type": "code",
   "execution_count": 11,
   "metadata": {},
   "outputs": [
    {
     "name": "stdout",
     "output_type": "stream",
     "text": [
      "Test Loss: 0.6173, Test Accuracy: 67.15%\n"
     ]
    }
   ],
   "source": [
    "criterion = nn.CrossEntropyLoss()\n",
    "evaluate_model(net, test_loader, criterion)"
   ]
  }
 ],
 "metadata": {
  "kernelspec": {
   "display_name": "Python 3 (ipykernel)",
   "language": "python",
   "name": "python3"
  },
  "language_info": {
   "codemirror_mode": {
    "name": "ipython",
    "version": 3
   },
   "file_extension": ".py",
   "mimetype": "text/x-python",
   "name": "python",
   "nbconvert_exporter": "python",
   "pygments_lexer": "ipython3",
   "version": "3.9.13"
  }
 },
 "nbformat": 4,
 "nbformat_minor": 2
}
