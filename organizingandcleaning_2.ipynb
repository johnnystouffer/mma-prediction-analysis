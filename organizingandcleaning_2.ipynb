{
 "cells": [
  {
   "cell_type": "markdown",
   "id": "5db6f59c",
   "metadata": {},
   "source": [
    "# The Next Step in our process is Organizing"
   ]
  },
  {
   "cell_type": "markdown",
   "id": "012cf16e",
   "metadata": {},
   "source": [
    "We have all the fights ever and all the fighters ever, so next we need to append all the fighters statistics to each fight and then make it easier for o"
   ]
  }
 ],
 "metadata": {
  "kernelspec": {
   "display_name": "Python 3 (ipykernel)",
   "language": "python",
   "name": "python3"
  },
  "language_info": {
   "codemirror_mode": {
    "name": "ipython",
    "version": 3
   },
   "file_extension": ".py",
   "mimetype": "text/x-python",
   "name": "python",
   "nbconvert_exporter": "python",
   "pygments_lexer": "ipython3",
   "version": "3.9.13"
  }
 },
 "nbformat": 4,
 "nbformat_minor": 5
}
